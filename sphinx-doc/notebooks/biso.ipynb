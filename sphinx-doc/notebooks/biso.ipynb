{
 "cells": [
  {
   "cell_type": "markdown",
   "id": "1c5571822389571a",
   "metadata": {
    "editable": true,
    "slideshow": {
     "slide_type": ""
    },
    "tags": []
   },
   "source": [
    "# BiSO\n",
    "\n",
    "Romain THOMAS 2025  \n",
    "DiBISO - Université Paris-Saclay"
   ]
  },
  {
   "cell_type": "code",
   "execution_count": 1,
   "id": "c1755d78-49b5-4326-8f5e-650681ec9a19",
   "metadata": {
    "editable": true,
    "nbsphinx": "hidden",
    "slideshow": {
     "slide_type": ""
    },
    "tags": []
   },
   "outputs": [],
   "source": [
    "# This cell has the metadata: \"nbsphinx\": \"hidden\" to be hidden in the sphinx documentation\n",
    "\n",
    "# Create figure directory\n",
    "\n",
    "import os\n",
    "\n",
    "os.makedirs(\"figures/biso\", exist_ok=True)"
   ]
  },
  {
   "cell_type": "markdown",
   "id": "047a9c10-a83c-4e52-ab71-60ddb353ffb3",
   "metadata": {},
   "source": [
    "## ANR Projects"
   ]
  },
  {
   "cell_type": "code",
   "execution_count": 2,
   "id": "86841ffe-deb6-467c-8e34-915488f25bfc",
   "metadata": {
    "editable": true,
    "slideshow": {
     "slide_type": ""
    },
    "tags": []
   },
   "outputs": [],
   "source": [
    "from dibisoplot.biso import AnrProjects\n",
    "\n",
    "anr_projects = AnrProjects(\n",
    "    lab = \"SUP_SONDRA\",\n",
    "    year = \"2023\",\n",
    ")\n",
    "\n",
    "anr_fig = anr_projects.get_figure()\n",
    "\n",
    "# anr_fig.show()"
   ]
  },
  {
   "cell_type": "code",
   "execution_count": 3,
   "id": "70083dd9-7a8e-4163-bbc1-5981eba14ead",
   "metadata": {
    "editable": true,
    "nbsphinx": "hidden",
    "slideshow": {
     "slide_type": ""
    },
    "tags": []
   },
   "outputs": [],
   "source": [
    "# This cell has the metadata: \"nbsphinx\": \"hidden\" to be hidden in the sphinx documentation\n",
    "\n",
    "anr_fig.update_layout(\n",
    "    autosize=True,\n",
    "    margin=dict(l=20, r=20, t=20, b=20),  # Reduce margins\n",
    "    width=None,  # Let the iframe control width\n",
    "    height=None, # Let the iframe control height\n",
    ")\n",
    "anr_fig.write_html(\n",
    "    \"figures/biso/anr_projects.html\",\n",
    "    include_plotlyjs=\"cdn\",\n",
    "    full_html=False,\n",
    "    config={\"responsive\": True}  # Enable responsiveness\n",
    ")"
   ]
  },
  {
   "cell_type": "markdown",
   "id": "388e3963-5bb2-4c2d-8593-762fe53b0c5b",
   "metadata": {},
   "source": [
    "<div style=\"\n",
    "    width: 100%;\n",
    "    height: 500px;\n",
    "    border: 1px solid #ddd;\n",
    "    overflow: hidden;  /* Hide scrollbars */\n",
    "    resize: vertical;  /* Allow vertical resizing (optional) */\n",
    "\">\n",
    "  <iframe\n",
    "    src=\"../_static/figures/biso/anr_projects.html\"\n",
    "    frameborder=\"0\"\n",
    "    style=\"\n",
    "      width: 100%;\n",
    "      height: 100%;\n",
    "      background: white;\n",
    "      display: block;  /* Remove extra space */\n",
    "    \"\n",
    "    onload=\"this.style.height = this.contentWindow.document.body.scrollHeight + 'px';\"\n",
    "  ></iframe>\n",
    "</div>"
   ]
  },
  {
   "cell_type": "markdown",
   "id": "1797042f-07b5-46ae-9549-95bc69ad801f",
   "metadata": {},
   "source": [
    "## Chapters"
   ]
  },
  {
   "cell_type": "code",
   "execution_count": 4,
   "id": "f9bb6bf3-99ec-4855-aed4-40af95d1e7ae",
   "metadata": {},
   "outputs": [
    {
     "name": "stdout",
     "output_type": "stream",
     "text": [
      "\\begin{longtable}{p{.4\\linewidth}p{.35\\linewidth}p{.15\\linewidth}}\n",
      "\\caption{Liste des chapitres}\n",
      "\\label{tab_chapters}\\\\\n",
      "\\toprule\n",
      "Titre du chapitre & Titre du livre & Éditeur \\\\\n",
      "\\midrule\n",
      "Démocratie environnementale : quelle(s) réalité(s) derrière les mots ? & Le droit économique de l’environnement : Acteurs et méthodes & Mare \\& Martin \\\\\n",
      "La place du charbon dans l’Union européenne & Commerce transnational et industries extractives : entre singularité et pérennité d’un modèle &  \\\\\n",
      "Ethique, science et gouvernance internationale en temps de pandémie & Sciences et pandémies : quelle éthique pour demain ? & éditions Erès \\\\\n",
      "Une certaine idée du service public culturel. Du 19ème au début du 20ème siècle & L’artiste, l’administrateur et le juge. L’invention du service public culturel. Le rôle du Conseil d’Etat, Actes du colloque des 26 et 27 novembre 2021, organisé par le Comité d’histoire du Conseil d’Etat et de la juridiction administrative et le Comité d’histoire du ministère de la culture & La rumeur libre éditions \\\\\n",
      "Le Parlement comme contre-pouvoir sous la Ve République. Les enseignements des élections législatives de juin 2022 & Institutions et contre-pouvoir. Représentation, contrôle et ordre constitutionnel au prisme du droit constitutionnel comparé & Nihon Hyoron Sha \\\\\n",
      "A la recherche de l’esprit de solidarité énergétique & Union européenne et solidarité(s) & Bruylant \\\\\n",
      "Concurrence et régulation & Commentaire J. Mégret : L’énergie &  \\\\\n",
      "Le serment du chef de l’État & Le Serment. Perspectives juridiques contemporaines & Société de législations comparée \\\\\n",
      "Le permis de construire sur le domaine public : entre protection du domaine et simplification des autorisations d’urbanisme. À propos de l’article R. 431-13 du code de l’urbanisme & Droit de l’Aménagement de l’Urbanisme de l’Habitat, 27e éd. & Le Moniteur \\\\\n",
      "Essais nucléaires et statut colonial de la Polynésie française : la rhétorique indépendantiste au sein de l’Organisation des Nations Unies & Le traitement juridique contemporain du fait nucléaire français en Polynésie française & Pedone \\\\\n",
      "La réponse de l’Union européenne à la crise énergétique : unie dans le conflit ? & La conflictualité dans l’Union européenne : menace existentielle ou catalyseur d’intégration ? & Bruylant \\\\\n",
      "La 9e question mise au programme du Congrès international de droit comparé de 1900 & Mélanges en l’honneur du Professeur Ken Hasegawa & Mare \\& Martin \\\\\n",
      "A propos des accords bilatéraux de coopération récemment conclus avec trois Etats voisins (traités d’Aix-la-Chapelle, du Quirinal et de Barcelone) & Annuaire français de droit international (AFDI) &  \\\\\n",
      "La typologie des régimes politiques à l’aune de la structure de l’exécutif & Les figures contemporaines du chef de l’État en régime parlementaire & Bruylant \\\\\n",
      "La solidarité européenne à l’épreuve de la pandémie : bilan d’une stratégie vaccinale en clair-obscur & Ethique et gouvernance internationale de la recherche – Les enseignements de la pandémie de Covid-19 &  \\\\\n",
      "L’utilisation du contrôle de proportionnalité par les juges européens en matière d’asile & Les juges européens face aux migrations & Anthémis \\\\\n",
      "Préface & La déclaration Union européenne-Turquie, ambiguïtés et devenir d’un modèle de gestion des flux migratoires & Bruylant, collection Pratique(s) du droit international \\\\\n",
      "\\bottomrule\n",
      "\\end{longtable}\n",
      "\n"
     ]
    }
   ],
   "source": [
    "from dibisoplot.biso import Chapters\n",
    "\n",
    "chapters = Chapters(\n",
    "    lab = \"IEDP\",\n",
    "    year = \"2023\",\n",
    ")\n",
    "\n",
    "chapters_latex = chapters.get_figure()\n",
    "\n",
    "print(chapters_latex)"
   ]
  },
  {
   "cell_type": "markdown",
   "id": "b8bd3639-3b3b-4ce3-b53a-3ad5bd7cb968",
   "metadata": {},
   "source": [
    "## Collaboration Map"
   ]
  },
  {
   "cell_type": "code",
   "execution_count": 5,
   "id": "aeec7971-5f3e-480a-aaba-2a0fe24b4889",
   "metadata": {},
   "outputs": [
    {
     "name": "stdout",
     "output_type": "stream",
     "text": [
      "Returning 252 doi (limit at 1000)\n",
      "Downloading the metadata for 252 DOIs from OpenAlex...\n"
     ]
    },
    {
     "name": "stderr",
     "output_type": "stream",
     "text": [
      "100%|█████████████████████████████████████████████████████████████████████████████████████████████████████████████████████████████████████████████████████████████████████████████████████████████| 252/252 [00:02<00:00, 89.31it/s]\n"
     ]
    },
    {
     "name": "stdout",
     "output_type": "stream",
     "text": [
      "191 works retrieved successfully from OpenAlex out of 252\n",
      "367 unique institutions with which we collaborated on works\n"
     ]
    },
    {
     "name": "stderr",
     "output_type": "stream",
     "text": [
      "100%|█████████████████████████████████████████████████████████████████████████████████████████████████████████████████████████████████████████████████████████████████████████████████████████████| 367/367 [00:06<00:00, 53.55it/s]"
     ]
    },
    {
     "name": "stdout",
     "output_type": "stream",
     "text": [
      "213 unique institutions to plot\n"
     ]
    },
    {
     "name": "stderr",
     "output_type": "stream",
     "text": [
      "\n"
     ]
    }
   ],
   "source": [
    "from dibisoplot.biso import CollaborationMap\n",
    "\n",
    "collab_map = CollaborationMap(\n",
    "    lab = \"LISN\",\n",
    "    year = \"2023\",\n",
    "    countries_to_ignore = [\"France\"],\n",
    ")\n",
    "\n",
    "collab_map_fig = collab_map.get_figure()\n",
    "\n",
    "# collab_map_fig.show()"
   ]
  },
  {
   "cell_type": "code",
   "execution_count": 6,
   "id": "5f87adaa-54db-4e90-a397-3cd46dc52023",
   "metadata": {
    "editable": true,
    "nbsphinx": "hidden",
    "slideshow": {
     "slide_type": ""
    },
    "tags": []
   },
   "outputs": [],
   "source": [
    "# This cell has the metadata: \"nbsphinx\": \"hidden\" to be hidden in the sphinx documentation\n",
    "\n",
    "collab_map_fig.update_layout(\n",
    "    autosize=True,\n",
    "    margin=dict(l=20, r=20, t=20, b=20),  # Reduce margins\n",
    "    width=None,  # Let the iframe control width\n",
    "    height=None, # Let the iframe control height\n",
    ")\n",
    "collab_map_fig.write_html(\n",
    "    \"figures/biso/collaboration_map.html\",\n",
    "    include_plotlyjs=\"cdn\",\n",
    "    full_html=False,\n",
    "    config={\"responsive\": True}  # Enable responsiveness\n",
    ")"
   ]
  },
  {
   "cell_type": "markdown",
   "id": "d08fd8be-6069-4a3d-bcca-eeeae0fba1a7",
   "metadata": {},
   "source": [
    "<div style=\"\n",
    "    width: 100%;\n",
    "    height: 500px;\n",
    "    border: 1px solid #ddd;\n",
    "    overflow: hidden;  /* Hide scrollbars */\n",
    "    resize: vertical;  /* Allow vertical resizing (optional) */\n",
    "\">\n",
    "  <iframe\n",
    "    src=\"../_static/figures/biso/collaboration_map.html\"\n",
    "    frameborder=\"0\"\n",
    "    style=\"\n",
    "      width: 100%;\n",
    "      height: 100%;\n",
    "      background: white;\n",
    "      display: block;  /* Remove extra space */\n",
    "    \"\n",
    "    onload=\"this.style.height = this.contentWindow.document.body.scrollHeight + 'px';\"\n",
    "  ></iframe>\n",
    "</div>"
   ]
  },
  {
   "cell_type": "markdown",
   "id": "ef2a82c0-99fa-46ae-b1b3-6477a3550ad3",
   "metadata": {},
   "source": [
    "## Collaboration Names"
   ]
  },
  {
   "cell_type": "code",
   "execution_count": 7,
   "id": "fe3551f4-eacf-4752-847e-ee878e71b5b0",
   "metadata": {},
   "outputs": [],
   "source": [
    "from dibisoplot.biso import CollaborationNames\n",
    "\n",
    "collabs = CollaborationNames(\n",
    "    lab = \"LISN\",\n",
    "    year = \"2023\",\n",
    "    countries_to_exclude = ['fr'],\n",
    ")\n",
    "\n",
    "collabs_fig = collabs.get_figure()\n",
    "\n",
    "# collabs_fig.show()"
   ]
  },
  {
   "cell_type": "code",
   "execution_count": 8,
   "id": "2672d940-c432-4df7-81e0-4bca5f466a42",
   "metadata": {
    "editable": true,
    "nbsphinx": "hidden",
    "slideshow": {
     "slide_type": ""
    },
    "tags": []
   },
   "outputs": [],
   "source": [
    "# This cell has the metadata: \"nbsphinx\": \"hidden\" to be hidden in the sphinx documentation\n",
    "\n",
    "collabs_fig.update_layout(\n",
    "    autosize=True,\n",
    "    margin=dict(l=20, r=20, t=20, b=20),  # Reduce margins\n",
    "    width=None,  # Let the iframe control width\n",
    "    height=None, # Let the iframe control height\n",
    ")\n",
    "collabs_fig.write_html(\n",
    "    \"figures/biso/collaboration_names.html\",\n",
    "    include_plotlyjs=\"cdn\",\n",
    "    full_html=False,\n",
    "    config={\"responsive\": True}  # Enable responsiveness\n",
    ")"
   ]
  },
  {
   "cell_type": "markdown",
   "id": "0329cf2b-137f-4c62-92c3-92576e1f7f03",
   "metadata": {},
   "source": [
    "<div style=\"\n",
    "    width: 100%;\n",
    "    height: 500px;\n",
    "    border: 1px solid #ddd;\n",
    "    overflow: hidden;  /* Hide scrollbars */\n",
    "    resize: vertical;  /* Allow vertical resizing (optional) */\n",
    "\">\n",
    "  <iframe\n",
    "    src=\"../_static/figures/biso/collaboration_names.html\"\n",
    "    frameborder=\"0\"\n",
    "    style=\"\n",
    "      width: 100%;\n",
    "      height: 100%;\n",
    "      background: white;\n",
    "      display: block;  /* Remove extra space */\n",
    "    \"\n",
    "    onload=\"this.style.height = this.contentWindow.document.body.scrollHeight + 'px';\"\n",
    "  ></iframe>\n",
    "</div>"
   ]
  },
  {
   "cell_type": "markdown",
   "id": "80c129ef-53e1-4f51-b9be-e2c0bda1fcb1",
   "metadata": {},
   "source": [
    "## Conferences"
   ]
  },
  {
   "cell_type": "code",
   "execution_count": 9,
   "id": "401f8048-7535-4d04-ad3d-3e31edb45a8d",
   "metadata": {},
   "outputs": [],
   "source": [
    "from dibisoplot.biso import Conferences\n",
    "\n",
    "conf = Conferences(\n",
    "    lab = \"LGI\",\n",
    "    year = \"2023\",\n",
    ")\n",
    "\n",
    "conf_fig = conf.get_figure()\n",
    "\n",
    "# conf_fig.show()"
   ]
  },
  {
   "cell_type": "code",
   "execution_count": 10,
   "id": "4a219d3e-fc92-4487-a272-ad385468bbee",
   "metadata": {
    "editable": true,
    "nbsphinx": "hidden",
    "slideshow": {
     "slide_type": ""
    },
    "tags": []
   },
   "outputs": [],
   "source": [
    "# This cell has the metadata: \"nbsphinx\": \"hidden\" to be hidden in the sphinx documentation\n",
    "\n",
    "conf_fig.update_layout(\n",
    "    autosize=True,\n",
    "    margin=dict(l=20, r=20, t=20, b=20),  # Reduce margins\n",
    "    width=None,  # Let the iframe control width\n",
    "    height=None, # Let the iframe control height\n",
    ")\n",
    "conf_fig.write_html(\n",
    "    \"figures/biso/conferences.html\",\n",
    "    include_plotlyjs=\"cdn\",\n",
    "    full_html=False,\n",
    "    config={\"responsive\": True}  # Enable responsiveness\n",
    ")"
   ]
  },
  {
   "cell_type": "markdown",
   "id": "8db9c234-9471-48ca-9648-f33650141482",
   "metadata": {},
   "source": [
    "<div style=\"\n",
    "    width: 100%;\n",
    "    height: 500px;\n",
    "    border: 1px solid #ddd;\n",
    "    overflow: hidden;  /* Hide scrollbars */\n",
    "    resize: vertical;  /* Allow vertical resizing (optional) */\n",
    "\">\n",
    "  <iframe\n",
    "    src=\"../_static/figures/biso/conferences.html\"\n",
    "    frameborder=\"0\"\n",
    "    style=\"\n",
    "      width: 100%;\n",
    "      height: 100%;\n",
    "      background: white;\n",
    "      display: block;  /* Remove extra space */\n",
    "    \"\n",
    "    onload=\"this.style.height = this.contentWindow.document.body.scrollHeight + 'px';\"\n",
    "  ></iframe>\n",
    "</div>"
   ]
  },
  {
   "cell_type": "markdown",
   "id": "beec853f-7a65-47f6-84df-9641fde7b8ba",
   "metadata": {},
   "source": [
    "## European Projects"
   ]
  },
  {
   "cell_type": "code",
   "execution_count": 11,
   "id": "12e00301-931b-42e0-97cd-219690c221c3",
   "metadata": {},
   "outputs": [],
   "source": [
    "from dibisoplot.biso import EuropeanProjects\n",
    "\n",
    "eu_projects = EuropeanProjects(\n",
    "    lab = \"UMPHY\",\n",
    "    year = \"2023\",\n",
    ")\n",
    "\n",
    "eu_projects_fig = eu_projects.get_figure()\n",
    "\n",
    "# eu_projects_fig.show()"
   ]
  },
  {
   "cell_type": "code",
   "execution_count": 12,
   "id": "071ca175-b9db-402f-8103-b30e19234df0",
   "metadata": {
    "editable": true,
    "nbsphinx": "hidden",
    "slideshow": {
     "slide_type": ""
    },
    "tags": []
   },
   "outputs": [],
   "source": [
    "# This cell has the metadata: \"nbsphinx\": \"hidden\" to be hidden in the sphinx documentation\n",
    "\n",
    "eu_projects_fig.update_layout(\n",
    "    autosize=True,\n",
    "    margin=dict(l=20, r=20, t=20, b=20),  # Reduce margins\n",
    "    width=None,  # Let the iframe control width\n",
    "    height=None, # Let the iframe control height\n",
    ")\n",
    "eu_projects_fig.write_html(\n",
    "    \"figures/biso/european_projects.html\",\n",
    "    include_plotlyjs=\"cdn\",\n",
    "    full_html=False,\n",
    "    config={\"responsive\": True}  # Enable responsiveness\n",
    ")"
   ]
  },
  {
   "cell_type": "markdown",
   "id": "bba31509-9e55-443a-818c-0c7ec06f0943",
   "metadata": {},
   "source": [
    "<div style=\"\n",
    "    width: 100%;\n",
    "    height: 500px;\n",
    "    border: 1px solid #ddd;\n",
    "    overflow: hidden;  /* Hide scrollbars */\n",
    "    resize: vertical;  /* Allow vertical resizing (optional) */\n",
    "\">\n",
    "  <iframe\n",
    "    src=\"../_static/figures/biso/european_projects.html\"\n",
    "    frameborder=\"0\"\n",
    "    style=\"\n",
    "      width: 100%;\n",
    "      height: 100%;\n",
    "      background: white;\n",
    "      display: block;  /* Remove extra space */\n",
    "    \"\n",
    "    onload=\"this.style.height = this.contentWindow.document.body.scrollHeight + 'px';\"\n",
    "  ></iframe>\n",
    "</div>"
   ]
  },
  {
   "cell_type": "markdown",
   "id": "600031d4-addb-417d-a1ca-7eff35305070",
   "metadata": {},
   "source": [
    "## Journals"
   ]
  },
  {
   "cell_type": "code",
   "execution_count": 13,
   "id": "d396e01e-c849-450d-923d-bfddd1424eec",
   "metadata": {},
   "outputs": [],
   "source": [
    "from dibisoplot.biso import Journals\n",
    "\n",
    "# TODO\n",
    "# journals = Journals(\n",
    "#     lab = \"\",\n",
    "#     year = \"2023\",\n",
    "# )\n",
    "\n",
    "# journals_fig = journals.get_figure()\n",
    "\n",
    "# journals_fig.show()"
   ]
  },
  {
   "cell_type": "markdown",
   "id": "a47728ea-50c2-4072-94c2-6928c0c898c4",
   "metadata": {},
   "source": [
    "## Open Access Works"
   ]
  },
  {
   "cell_type": "code",
   "execution_count": 14,
   "id": "2ea779db-6595-4d58-9a17-083038d561d1",
   "metadata": {},
   "outputs": [],
   "source": [
    "from dibisoplot.biso import OpenAccessWorks\n",
    "\n",
    "oa_works = OpenAccessWorks(\n",
    "    lab = \"EM2C\",\n",
    "    year = 2023,\n",
    ")\n",
    "\n",
    "oa_works_fig = oa_works.get_figure()\n",
    "\n",
    "# oa_works_fig.show()"
   ]
  },
  {
   "cell_type": "code",
   "execution_count": 15,
   "id": "1b8dd21a-c48c-402e-a8d6-0393bec71ad8",
   "metadata": {
    "editable": true,
    "nbsphinx": "hidden",
    "slideshow": {
     "slide_type": ""
    },
    "tags": []
   },
   "outputs": [],
   "source": [
    "# This cell has the metadata: \"nbsphinx\": \"hidden\" to be hidden in the sphinx documentation\n",
    "\n",
    "oa_works_fig.update_layout(\n",
    "    autosize=True,\n",
    "    margin=dict(l=20, r=20, t=20, b=20),  # Reduce margins\n",
    "    width=None,  # Let the iframe control width\n",
    "    height=None, # Let the iframe control height\n",
    ")\n",
    "oa_works_fig.write_html(\n",
    "    \"figures/biso/open_access_works.html\",\n",
    "    include_plotlyjs=\"cdn\",\n",
    "    full_html=False,\n",
    "    config={\"responsive\": True}  # Enable responsiveness\n",
    ")"
   ]
  },
  {
   "cell_type": "markdown",
   "id": "24061d38-8de8-4546-bdb3-50246578be9b",
   "metadata": {},
   "source": [
    "<div style=\"\n",
    "    width: 100%;\n",
    "    height: 500px;\n",
    "    border: 1px solid #ddd;\n",
    "    overflow: hidden;  /* Hide scrollbars */\n",
    "    resize: vertical;  /* Allow vertical resizing (optional) */\n",
    "\">\n",
    "  <iframe\n",
    "    src=\"../_static/figures/biso/open_access_works.html\"\n",
    "    frameborder=\"0\"\n",
    "    style=\"\n",
    "      width: 100%;\n",
    "      height: 100%;\n",
    "      background: white;\n",
    "      display: block;  /* Remove extra space */\n",
    "    \"\n",
    "    onload=\"this.style.height = this.contentWindow.document.body.scrollHeight + 'px';\"\n",
    "  ></iframe>\n",
    "</div>"
   ]
  },
  {
   "cell_type": "markdown",
   "id": "d054a498-a104-47ca-8393-f006f7467070",
   "metadata": {},
   "source": [
    "## Works Type"
   ]
  },
  {
   "cell_type": "code",
   "execution_count": 16,
   "id": "4b32bede-c08f-4457-9450-5591ab311892",
   "metadata": {},
   "outputs": [],
   "source": [
    "from dibisoplot.biso import WorksType\n",
    "\n",
    "works_type = WorksType(\n",
    "    lab = \"LGI\",\n",
    "    year = \"2023\",\n",
    ")\n",
    "\n",
    "works_type_fig = works_type.get_figure()\n",
    "\n",
    "# works_type_fig.show()"
   ]
  },
  {
   "cell_type": "code",
   "execution_count": 17,
   "id": "eb7f574a-1283-4d0a-9042-cd78e2a2604f",
   "metadata": {
    "editable": true,
    "nbsphinx": "hidden",
    "slideshow": {
     "slide_type": ""
    },
    "tags": []
   },
   "outputs": [],
   "source": [
    "# This cell has the metadata: \"nbsphinx\": \"hidden\" to be hidden in the sphinx documentation\n",
    "\n",
    "works_type_fig.update_layout(\n",
    "    autosize=True,\n",
    "    margin=dict(l=20, r=20, t=20, b=20),  # Reduce margins\n",
    "    width=None,  # Let the iframe control width\n",
    "    height=None, # Let the iframe control height\n",
    ")\n",
    "works_type_fig.write_html(\n",
    "    \"figures/biso/works_type.html\",\n",
    "    include_plotlyjs=\"cdn\",\n",
    "    full_html=False,\n",
    "    config={\"responsive\": True}  # Enable responsiveness\n",
    ")"
   ]
  },
  {
   "cell_type": "markdown",
   "id": "7a9087c7-5446-49b8-8a0a-7d133288ae08",
   "metadata": {},
   "source": [
    "<div style=\"\n",
    "    width: 100%;\n",
    "    height: 500px;\n",
    "    border: 1px solid #ddd;\n",
    "    overflow: hidden;  /* Hide scrollbars */\n",
    "    resize: vertical;  /* Allow vertical resizing (optional) */\n",
    "\">\n",
    "  <iframe\n",
    "    src=\"../_static/figures/biso/works_type.html\"\n",
    "    frameborder=\"0\"\n",
    "    style=\"\n",
    "      width: 100%;\n",
    "      height: 100%;\n",
    "      background: white;\n",
    "      display: block;  /* Remove extra space */\n",
    "    \"\n",
    "    onload=\"this.style.height = this.contentWindow.document.body.scrollHeight + 'px';\"\n",
    "  ></iframe>\n",
    "</div>"
   ]
  }
 ],
 "metadata": {
  "kernelspec": {
   "display_name": "Python 3 (ipykernel)",
   "language": "python",
   "name": "python3"
  },
  "language_info": {
   "codemirror_mode": {
    "name": "ipython",
    "version": 3
   },
   "file_extension": ".py",
   "mimetype": "text/x-python",
   "name": "python",
   "nbconvert_exporter": "python",
   "pygments_lexer": "ipython3",
   "version": "3.12.3"
  }
 },
 "nbformat": 4,
 "nbformat_minor": 5
}
